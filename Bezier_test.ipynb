{
 "cells": [
  {
   "cell_type": "code",
   "execution_count": 3,
   "metadata": {},
   "outputs": [],
   "source": [
    "import cv2 as cv\n",
    "import numpy as np"
   ]
  },
  {
   "cell_type": "code",
   "execution_count": 6,
   "metadata": {},
   "outputs": [],
   "source": [
    "def point(x,y,canvas):\n",
    "    cv.circle(canvas,(int(x),int(y)), radius=0, color=(255,255,255), thickness=1)"
   ]
  },
  {
   "cell_type": "code",
   "execution_count": 15,
   "metadata": {},
   "outputs": [],
   "source": [
    "bg = np.zeros((500,500,3), dtype='uint8')\n",
    "p1 = (200,300)\n",
    "p2 = (100,150)\n",
    "step = 100\n",
    "for  t in range(step):\n",
    "    alpha = t/step\n",
    "    x = alpha*p1[0] + (1-alpha)*p2[0]\n",
    "    y = alpha*p1[1] + (1-alpha)*p2[1]\n",
    "    point(x,y,bg)\n",
    "\n",
    "cv.imshow(\"Bezier_Curve\",bg)\n",
    "cv.waitKey(0)\n",
    "cv.destroyAllWindows()"
   ]
  }
 ],
 "metadata": {
  "kernelspec": {
   "display_name": "base",
   "language": "python",
   "name": "python3"
  },
  "language_info": {
   "codemirror_mode": {
    "name": "ipython",
    "version": 3
   },
   "file_extension": ".py",
   "mimetype": "text/x-python",
   "name": "python",
   "nbconvert_exporter": "python",
   "pygments_lexer": "ipython3",
   "version": "3.11.4"
  }
 },
 "nbformat": 4,
 "nbformat_minor": 2
}
